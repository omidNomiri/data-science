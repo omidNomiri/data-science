{
 "cells": [
  {
   "cell_type": "code",
   "execution_count": 1,
   "metadata": {},
   "outputs": [],
   "source": [
    "import os\n",
    "import cv2"
   ]
  },
  {
   "cell_type": "code",
   "execution_count": 2,
   "metadata": {},
   "outputs": [],
   "source": [
    "original_numerical_dataset = cv2.imread(\"input/numerical_dataset.png\", cv2.IMREAD_GRAYSCALE)"
   ]
  },
  {
   "cell_type": "code",
   "execution_count": 10,
   "metadata": {},
   "outputs": [],
   "source": [
    "numerical_dataset = original_numerical_dataset.copy()\n",
    "\n",
    "row, column = numerical_dataset.shape\n",
    "\n",
    "number_output_digit,number_image = 0, 0\n",
    "\n",
    "for col in range(0, 1000,20):\n",
    "    for row in range(0, 2000,20):\n",
    "        if number_image >= 500:\n",
    "            number_image = 0\n",
    "            number_output_digit += 1\n",
    "\n",
    "        digit_image = numerical_dataset[col: col + 20, row: row + 20]\n",
    "        os.makedirs(f\"output/{number_output_digit}\",exist_ok=True)\n",
    "        cv2.imwrite(f\"output/{number_output_digit}/digit{number_output_digit}_{number_image}.png\",digit_image)\n",
    "\n",
    "        number_image += 1"
   ]
  }
 ],
 "metadata": {
  "kernelspec": {
   "display_name": "Python 3",
   "language": "python",
   "name": "python3"
  },
  "language_info": {
   "codemirror_mode": {
    "name": "ipython",
    "version": 3
   },
   "file_extension": ".py",
   "mimetype": "text/x-python",
   "name": "python",
   "nbconvert_exporter": "python",
   "pygments_lexer": "ipython3",
   "version": "3.11.7"
  }
 },
 "nbformat": 4,
 "nbformat_minor": 2
}
